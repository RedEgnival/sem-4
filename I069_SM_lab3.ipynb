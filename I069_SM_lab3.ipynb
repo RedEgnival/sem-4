{
  "nbformat": 4,
  "nbformat_minor": 0,
  "metadata": {
    "colab": {
      "provenance": [],
      "authorship_tag": "ABX9TyN79/nea4c6R7SyCTV3hINN",
      "include_colab_link": true
    },
    "kernelspec": {
      "name": "python3",
      "display_name": "Python 3"
    },
    "language_info": {
      "name": "python"
    }
  },
  "cells": [
    {
      "cell_type": "markdown",
      "metadata": {
        "id": "view-in-github",
        "colab_type": "text"
      },
      "source": [
        "<a href=\"https://colab.research.google.com/github/RedEgnival/sem-4/blob/main/I069_SM_lab3.ipynb\" target=\"_parent\"><img src=\"https://colab.research.google.com/assets/colab-badge.svg\" alt=\"Open In Colab\"/></a>"
      ]
    },
    {
      "cell_type": "markdown",
      "source": [
        "# Rusheel Sharma\n",
        "# I069\n",
        "# SM Lab 3"
      ],
      "metadata": {
        "id": "nO5IXwQ-xYee"
      }
    },
    {
      "cell_type": "markdown",
      "source": [
        " Q1 The number of items drawn from each strata is proportional to the size of the strata. The population is divided into 6 groups. Their respective sizes being 8,12, 20, 18, 20 and 22 percent of the population and a sample of 7,000 is drawn. Obtain the desired sample for each Strata.\n",
        "\n",
        "\n",
        "---\n",
        "\n"
      ],
      "metadata": {
        "id": "-OMTdTFHxnXN"
      }
    },
    {
      "cell_type": "code",
      "execution_count": null,
      "metadata": {
        "id": "jRibmNMvtYR_",
        "colab": {
          "base_uri": "https://localhost:8080/"
        },
        "outputId": "e0375b0b-a292-453a-b977-57ff36148ef1"
      },
      "outputs": [
        {
          "output_type": "stream",
          "name": "stdout",
          "text": [
            "Enter sample size: 7000\n",
            "Enter number of stratas: 6\n",
            "Enter the percentage of population in strata-1 (eg.8): 8\n",
            "Enter the percentage of population in strata-2 (eg.8): 12\n",
            "Enter the percentage of population in strata-3 (eg.8): 20\n",
            "Enter the percentage of population in strata-4 (eg.8): 18\n",
            "Enter the percentage of population in strata-5 (eg.8): 20\n",
            "Enter the percentage of population in strata-6 (eg.8): 22\n",
            "From stratum-1 the desired sample = 560.0\n",
            "From stratum-2 the desired sample = 840.0\n",
            "From stratum-3 the desired sample = 1400.0\n",
            "From stratum-4 the desired sample = 1260.0\n",
            "From stratum-5 the desired sample = 1400.0\n",
            "From stratum-6 the desired sample = 1540.0\n"
          ]
        }
      ],
      "source": [
        "s = int(input(\"Enter sample size: \"))\n",
        "st = int(input(\"Enter number of stratas: \"))\n",
        "stsize = []\n",
        "for i in range (0, st):\n",
        "    size = float(input(f\"Enter the percentage of population in strata-{i+1} (eg.8): \"))\n",
        "    stsize.append(size/100)\n",
        "for i in range (0, st):\n",
        "    print(f\"From stratum-{i+1} the desired sample =\", s*stsize[i])"
      ]
    },
    {
      "cell_type": "markdown",
      "source": [
        "Q2 You are given the following data in a town  \n",
        "Income (Rs) \t,\tCarpenters \t,\tPlumbers \t,\tElectrician\n",
        "\n",
        " Less than 50,000, \t1,100, \t\t\t1250, \t\t\t1900\n",
        "\n",
        " 50000 – 100,000 ,\t2,050 \t,\t\t2320 \t\t,\t2200\n",
        "\n",
        "100000 – 150,000 ,\t1,200 \t,\t\t1470 \t,\t\t1700\n",
        "\n",
        "More than 150,000 ,\t970 \t\t,\t890 \t,\t\t1150\n",
        "\n",
        "\n",
        "\n",
        "\n",
        "\n",
        "------------------------------------------------------------------------------\n",
        " How many would be selected from each category if  \n",
        "(i) we follow stratified proportionate sampling method and take 8% of the universe equivalent of the sample size,\n",
        "(ii) if the size of sample is 12% of the universe but the Carpenters , plumbers and electricians are to be in the ratio 2:4:6 and weightage of the Income range is to be in the ratio of 5: 4: 2: 1\n",
        "\n",
        "\n"
      ],
      "metadata": {
        "id": "zrMzR52gyNf1"
      }
    },
    {
      "cell_type": "code",
      "source": [
        "import pandas as pd\n",
        "data = {\n",
        "    \"Income Range\": [\"Less than 50,000\", \"50,000 – 100,000\", \"100,000 – 150,000\", \"More than 150,000\"],\n",
        "    \"Carpenters\": [1100, 2050, 1200, 970],\n",
        "    \"Plumbers\": [1250, 2320, 1470, 890],\n",
        "    \"Electricians\": [1900, 2200, 1700, 1150]\n",
        "}\n",
        "df = pd.DataFrame(data)\n",
        "print(df)\n",
        "\n",
        "new_df = df.copy()\n",
        "new_df.iloc[:, 1:] = (new_df.iloc[:, 1:] * 0.08)\n",
        "new_df[\"Total\"] = new_df.iloc[:, 1:].sum(axis=1)\n",
        "\n",
        "new_df.loc[\"Total\"] = new_df.sum(numeric_only=True).round()\n",
        "new_df.at[\"Total\", \"Income Range\"] = \"Total\"\n",
        "print()\n",
        "print(new_df)"
      ],
      "metadata": {
        "id": "V7hZJdz_y9u3",
        "colab": {
          "base_uri": "https://localhost:8080/"
        },
        "outputId": "98cc254c-7c1a-4faf-b191-c072d2f88e2c"
      },
      "execution_count": null,
      "outputs": [
        {
          "output_type": "stream",
          "name": "stdout",
          "text": [
            "        Income Range  Carpenters  Plumbers  Electricians\n",
            "0   Less than 50,000        1100      1250          1900\n",
            "1   50,000 – 100,000        2050      2320          2200\n",
            "2  100,000 – 150,000        1200      1470          1700\n",
            "3  More than 150,000         970       890          1150\n",
            "\n",
            "            Income Range  Carpenters  Plumbers  Electricians   Total\n",
            "0       Less than 50,000        88.0     100.0         152.0   340.0\n",
            "1       50,000 – 100,000       164.0     185.6         176.0   525.6\n",
            "2      100,000 – 150,000        96.0     117.6         136.0   349.6\n",
            "3      More than 150,000        77.6      71.2          92.0   240.8\n",
            "Total              Total       426.0     474.0         556.0  1456.0\n"
          ]
        },
        {
          "output_type": "stream",
          "name": "stderr",
          "text": [
            "<ipython-input-3-60dd5128ef61>:12: FutureWarning: Setting an item of incompatible dtype is deprecated and will raise in a future error of pandas. Value '0     88.0\n",
            "1    164.0\n",
            "2     96.0\n",
            "3     77.6\n",
            "Name: Carpenters, dtype: float64' has dtype incompatible with int64, please explicitly cast to a compatible dtype first.\n",
            "  new_df.iloc[:, 1:] = (new_df.iloc[:, 1:] * 0.08)\n",
            "<ipython-input-3-60dd5128ef61>:12: FutureWarning: Setting an item of incompatible dtype is deprecated and will raise in a future error of pandas. Value '0    100.0\n",
            "1    185.6\n",
            "2    117.6\n",
            "3     71.2\n",
            "Name: Plumbers, dtype: float64' has dtype incompatible with int64, please explicitly cast to a compatible dtype first.\n",
            "  new_df.iloc[:, 1:] = (new_df.iloc[:, 1:] * 0.08)\n",
            "<ipython-input-3-60dd5128ef61>:12: FutureWarning: Setting an item of incompatible dtype is deprecated and will raise in a future error of pandas. Value '0    152.0\n",
            "1    176.0\n",
            "2    136.0\n",
            "3     92.0\n",
            "Name: Electricians, dtype: float64' has dtype incompatible with int64, please explicitly cast to a compatible dtype first.\n",
            "  new_df.iloc[:, 1:] = (new_df.iloc[:, 1:] * 0.08)\n"
          ]
        }
      ]
    },
    {
      "cell_type": "code",
      "source": [
        "data = {\n",
        "    \"Income Range\": [\"Less than 50,000\", \"50,000 – 100,000\", \"100,000 – 150,000\", \"More than 150,000\"],\n",
        "    \"Carpenters\": [1100, 2050, 1200, 970],\n",
        "    \"Plumbers\": [1250, 2320, 1470, 890],\n",
        "    \"Electricians\": [1900, 2200, 1700, 1150]\n",
        "}\n",
        "df = pd.DataFrame(data)\n",
        "print(df)\n",
        "\n",
        "total_universe = df.iloc[:, 1:].sum().sum()\n",
        "sample_size = total_universe * 0.12\n",
        "\n",
        "carpenter_ratio = 2\n",
        "plumber_ratio = 4\n",
        "electrician_ratio = 6\n",
        "total_ratio = carpenter_ratio + plumber_ratio + electrician_ratio\n",
        "\n",
        "carpenter_sample = (carpenter_ratio / total_ratio) * sample_size\n",
        "plumber_sample = (plumber_ratio / total_ratio) * sample_size\n",
        "electrician_sample = (electrician_ratio / total_ratio) * sample_size\n",
        "\n",
        "income_range_weights = [5, 4, 2, 1]\n",
        "total_weight = sum(income_range_weights)\n",
        "\n",
        "income_range_samples = [(weight / total_weight) * sample_size for weight in income_range_weights]\n",
        "\n",
        "new_df = df.copy()\n",
        "\n",
        "for i, income_range in enumerate(data[\"Income Range\"]):\n",
        "    carpenter_count = (carpenter_sample / sample_size) * income_range_samples[i]\n",
        "    plumber_count = (plumber_sample / sample_size) * income_range_samples[i]\n",
        "    electrician_count = (electrician_sample / sample_size) * income_range_samples[i]\n",
        "\n",
        "    new_df.at[i, \"Carpenters\"] = carpenter_count\n",
        "    new_df.at[i, \"Plumbers\"] = plumber_count\n",
        "    new_df.at[i, \"Electricians\"] = electrician_count\n",
        "\n",
        "new_df[\"Carpenters\"] = new_df[\"Carpenters\"].round(1)\n",
        "new_df[\"Plumbers\"] = new_df[\"Plumbers\"].round(1)\n",
        "new_df[\"Electricians\"] = new_df[\"Electricians\"].round(1)\n",
        "\n",
        "new_df[\"Total\"] = new_df.iloc[:, 1:].sum(axis=1)\n",
        "\n",
        "new_df.loc[\"Total\"] = new_df.sum(numeric_only=True)\n",
        "new_df.at[\"Total\", \"Income Range\"] = \"Total\"\n",
        "\n",
        "new_df[\"Total\"] = new_df[\"Total\"].round(1)\n",
        "print()\n",
        "print(new_df)"
      ],
      "metadata": {
        "colab": {
          "base_uri": "https://localhost:8080/"
        },
        "id": "-CbpALT25Uo6",
        "outputId": "7d827098-729b-4918-9728-1982517fef8f"
      },
      "execution_count": null,
      "outputs": [
        {
          "output_type": "stream",
          "name": "stdout",
          "text": [
            "        Income Range  Carpenters  Plumbers  Electricians\n",
            "0   Less than 50,000        1100      1250          1900\n",
            "1   50,000 – 100,000        2050      2320          2200\n",
            "2  100,000 – 150,000        1200      1470          1700\n",
            "3  More than 150,000         970       890          1150\n",
            "\n",
            "            Income Range  Carpenters  Plumbers  Electricians   Total\n",
            "0       Less than 50,000       151.7     303.3         455.0   910.0\n",
            "1       50,000 – 100,000       121.3     242.7         364.0   728.0\n",
            "2      100,000 – 150,000        60.7     121.3         182.0   364.0\n",
            "3      More than 150,000        30.3      60.7          91.0   182.0\n",
            "Total              Total       364.0     728.0        1092.0  2184.0\n"
          ]
        },
        {
          "output_type": "stream",
          "name": "stderr",
          "text": [
            "<ipython-input-7-0b500af7a61d>:34: FutureWarning: Setting an item of incompatible dtype is deprecated and will raise an error in a future version of pandas. Value '151.66666666666666' has dtype incompatible with int64, please explicitly cast to a compatible dtype first.\n",
            "  new_df.at[i, \"Carpenters\"] = carpenter_count\n",
            "<ipython-input-7-0b500af7a61d>:35: FutureWarning: Setting an item of incompatible dtype is deprecated and will raise an error in a future version of pandas. Value '303.3333333333333' has dtype incompatible with int64, please explicitly cast to a compatible dtype first.\n",
            "  new_df.at[i, \"Plumbers\"] = plumber_count\n"
          ]
        }
      ]
    },
    {
      "cell_type": "markdown",
      "source": [
        "Q3 Find the estimates of population mean and population variance of the data\n",
        "\n",
        "Class Interval   0 – 10\t, \t10 – 20 ,\t20 – 30 ,\t30 – 40 ,\t40 – 50\n",
        "\n",
        "Frequency \t   14 \t\t,    23 \t\t,     27 \t,\t    21 \t\t,    15\n",
        "\n",
        "\n",
        "---\n",
        "\n"
      ],
      "metadata": {
        "id": "OXdOFqIYy_Q-"
      }
    },
    {
      "cell_type": "code",
      "source": [
        "class_intervals = ['0-10', '10-20', '20-30', '30-40', '40-50']\n",
        "frequencies = [14, 23, 27, 21, 15]\n",
        "\n",
        "midpoints = []\n",
        "fixi = []\n",
        "fixisqr = []\n",
        "for i in range(len(frequencies)):\n",
        "    lower, upper = map(int, class_intervals[i].split('-'))\n",
        "    midpoint = (lower + upper) / 2\n",
        "    midpoints.append(midpoint)\n",
        "    fixi.append(frequencies[i]*midpoint)\n",
        "    fixisqr.append(frequencies[i]*(midpoint**2))\n",
        "\n",
        "data = pd.DataFrame({'Class Intervals': class_intervals,'Fi': frequencies,'Xi': midpoints,'FiXi': fixi,'fixi^2':fixisqr})\n",
        "print(\"\\n\",data)\n",
        "\n",
        "mean = sum(fixi)/sum(frequencies)\n",
        "print(\"\\nMean:\", mean)\n",
        "\n",
        "variance = (sum(fixisqr)/sum(frequencies))- (mean**2)\n",
        "print(\"Variance:\", variance)"
      ],
      "metadata": {
        "id": "ZSSwVE661Q4-",
        "colab": {
          "base_uri": "https://localhost:8080/"
        },
        "outputId": "34c072d6-0a7f-4c16-a10c-29f9dced556c"
      },
      "execution_count": null,
      "outputs": [
        {
          "output_type": "stream",
          "name": "stdout",
          "text": [
            "\n",
            "   Class Intervals  Fi    Xi   FiXi   fixi^2\n",
            "0            0-10  14   5.0   70.0    350.0\n",
            "1           10-20  23  15.0  345.0   5175.0\n",
            "2           20-30  27  25.0  675.0  16875.0\n",
            "3           30-40  21  35.0  735.0  25725.0\n",
            "4           40-50  15  45.0  675.0  30375.0\n",
            "\n",
            "Mean: 25.0\n",
            "Variance: 160.0\n"
          ]
        }
      ]
    },
    {
      "cell_type": "markdown",
      "source": [
        "Q4 Find the mean of the data\n",
        " \\\n",
        "Xi =\t10, \t11, \t12, \t13, \t14  \n",
        "Fi =\t  3, \t12, \t18, \t12, \t3\n",
        "\n",
        " N= 500\n",
        "\n",
        " S square (S**2) = 2.25\n",
        "\n",
        " Also, find Var (sample Mean) for sampling without replacement.\n",
        "\n",
        "\n",
        "---\n",
        "\n"
      ],
      "metadata": {
        "id": "gy46T7lE1RyW"
      }
    },
    {
      "cell_type": "code",
      "source": [
        "Xi = [10,11,12,13,14]\n",
        "Fi = [14, 23, 27, 21, 15]\n",
        "N = 500\n",
        "Ssqr = 2.25\n",
        "n = len(Xi)\n",
        "\n",
        "# SRSWR:\n",
        "Var1 = ((N-1)/(N*n))*Ssqr\n",
        "print(\"SRSWR:\\nVar(Sample mean) =\", Var1)\n",
        "\n",
        "#SRSWOR\n",
        "Var2 = ((N-n)/(N*n))*Ssqr\n",
        "print(\"\\nSRSWOR:\\nVar(Sample mean) =\", Var2)"
      ],
      "metadata": {
        "id": "W5RQkT5q1j-Q",
        "colab": {
          "base_uri": "https://localhost:8080/"
        },
        "outputId": "1565b567-c759-43f0-b307-ec8fe8ff014c"
      },
      "execution_count": null,
      "outputs": [
        {
          "output_type": "stream",
          "name": "stdout",
          "text": [
            "SRSWR:\n",
            "Var(Sample mean) = 0.4491\n",
            "\n",
            "SRSWOR:\n",
            "Var(Sample mean) = 0.4455\n"
          ]
        }
      ]
    },
    {
      "cell_type": "code",
      "source": [],
      "metadata": {
        "id": "98HgsWDy5hgR"
      },
      "execution_count": null,
      "outputs": []
    }
  ]
}