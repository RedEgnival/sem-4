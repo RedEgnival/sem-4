{
  "nbformat": 4,
  "nbformat_minor": 0,
  "metadata": {
    "colab": {
      "provenance": [],
      "authorship_tag": "ABX9TyPAtU/dvPnlsCxtTsT9hEaB",
      "include_colab_link": true
    },
    "kernelspec": {
      "name": "python3",
      "display_name": "Python 3"
    },
    "language_info": {
      "name": "python"
    }
  },
  "cells": [
    {
      "cell_type": "markdown",
      "metadata": {
        "id": "view-in-github",
        "colab_type": "text"
      },
      "source": [
        "<a href=\"https://colab.research.google.com/github/RedEgnival/sem-4/blob/main/I069_SM_lab_4.ipynb\" target=\"_parent\"><img src=\"https://colab.research.google.com/assets/colab-badge.svg\" alt=\"Open In Colab\"/></a>"
      ]
    },
    {
      "cell_type": "markdown",
      "source": [
        "# Rusheel Sharma\n",
        "#I069\n",
        "#SM Lab 4"
      ],
      "metadata": {
        "id": "9rp251gi0HTv"
      }
    },
    {
      "cell_type": "markdown",
      "source": [
        "Example: 1\n",
        "Assume that a firm has selected a random sample of 100 from its production line and has obtain the data shown in the table below:\n",
        "\n",
        "class interval :\n",
        "\n",
        "130-134\n",
        "135-139\n",
        "140-144\n",
        "145-149\n",
        "150-154\n",
        "155-159\n",
        "160-164\n",
        "\n",
        "frequency : \t3\n",
        " \t12\n",
        "\t21\n",
        " \t28\n",
        " \t19\n",
        " \t12\n",
        " \t5\n",
        "\n",
        " Compute the following:\n",
        "(a) The arithmetic mean, Mode\n",
        "(b) The standard deviation,\n",
        "(c) Q1 and Q3,\n",
        "(d) Karl Pearson's coefficient of skewness.\n",
        "(e) Bowley’s Coefficient of Skewness\n",
        "(f) is it positively or negatively skewed\n",
        "\n"
      ],
      "metadata": {
        "id": "dCubDnyF1jQV"
      }
    },
    {
      "cell_type": "code",
      "source": [
        "import numpy as np\n",
        "import statistics\n",
        "import matplotlib.pyplot as plt"
      ],
      "metadata": {
        "id": "q_3iwGhM3nGR"
      },
      "execution_count": null,
      "outputs": []
    },
    {
      "cell_type": "markdown",
      "source": [
        "Mean"
      ],
      "metadata": {
        "id": "xW6Ha6jK40PL"
      }
    },
    {
      "cell_type": "code",
      "execution_count": null,
      "metadata": {
        "colab": {
          "base_uri": "https://localhost:8080/"
        },
        "id": "M0uuqA_bzzeM",
        "outputId": "b23f7e13-74ea-4567-cb48-05b92b24c898"
      },
      "outputs": [
        {
          "output_type": "stream",
          "name": "stdout",
          "text": [
            "147.2\n"
          ]
        }
      ],
      "source": [
        "f = np.array([3,12,21,28,19,12,5])\n",
        "x = np.array([132,137,142,147,152,157,162])\n",
        "\n",
        "xf = x*f\n",
        "mean = sum(xf)/sum(f)\n",
        "print(mean)"
      ]
    },
    {
      "cell_type": "markdown",
      "source": [
        "Mode"
      ],
      "metadata": {
        "id": "qSHISMgF41sC"
      }
    },
    {
      "cell_type": "code",
      "source": [
        "l = len(f)\n",
        "f1 = [3,12,21,28,19,12,5]\n",
        "mode = x[f1.index(max(f1))]\n",
        "print( mode)"
      ],
      "metadata": {
        "colab": {
          "base_uri": "https://localhost:8080/"
        },
        "id": "U7wn3JAk3ukw",
        "outputId": "ec7e2f64-e956-4b53-a793-9e6bd3bb4820"
      },
      "execution_count": null,
      "outputs": [
        {
          "output_type": "stream",
          "name": "stdout",
          "text": [
            "147\n"
          ]
        }
      ]
    },
    {
      "cell_type": "markdown",
      "source": [
        "Standard deviation"
      ],
      "metadata": {
        "id": "PI2kZhLS5V6a"
      }
    },
    {
      "cell_type": "code",
      "source": [
        "x2 = x**2\n",
        "\n",
        "xf2 = x2*f\n",
        "var = (sum(xf2)/sum(f))- mean**2\n",
        "sd = var**0.5\n",
        "print(sd)"
      ],
      "metadata": {
        "colab": {
          "base_uri": "https://localhost:8080/"
        },
        "id": "sOwiz5hF4l2k",
        "outputId": "d5b58098-1d80-41af-a5a1-4fa7106eb360"
      },
      "execution_count": null,
      "outputs": [
        {
          "output_type": "stream",
          "name": "stdout",
          "text": [
            "7.208328516376231\n"
          ]
        }
      ]
    },
    {
      "cell_type": "markdown",
      "source": [
        "Q1 and Q3"
      ],
      "metadata": {
        "id": "JTfIG_SM6nMs"
      }
    },
    {
      "cell_type": "code",
      "source": [
        "print(\"Q1 quantile of arr : \", np.quantile(x, .25))\n",
        "print(\"Q3 quantile of arr : \", np.quantile(x, .75))"
      ],
      "metadata": {
        "colab": {
          "base_uri": "https://localhost:8080/"
        },
        "id": "y8noScFa5wiB",
        "outputId": "672ffcf2-8d2d-47ef-906e-46cb8a599d7c"
      },
      "execution_count": null,
      "outputs": [
        {
          "output_type": "stream",
          "name": "stdout",
          "text": [
            "Q1 quantile of arr :  139.5\n",
            "Q3 quantile of arr :  154.5\n"
          ]
        }
      ]
    },
    {
      "cell_type": "markdown",
      "source": [
        "Karl perarson\"s coefficient of skewness"
      ],
      "metadata": {
        "id": "7OaKw7MT7YDR"
      }
    },
    {
      "cell_type": "code",
      "source": [
        "sk = (mean-mode)/sd\n",
        "print(sk)"
      ],
      "metadata": {
        "colab": {
          "base_uri": "https://localhost:8080/"
        },
        "id": "ntY1X_uP7Cja",
        "outputId": "182a7d9a-975a-4d47-ea27-3b4e538f7f3f"
      },
      "execution_count": null,
      "outputs": [
        {
          "output_type": "stream",
          "name": "stdout",
          "text": [
            "0.027745683280890835\n"
          ]
        }
      ]
    },
    {
      "cell_type": "markdown",
      "source": [
        "Bowley’s Coefficient of Skewness"
      ],
      "metadata": {
        "id": "c7Bx8-9Q7t3J"
      }
    },
    {
      "cell_type": "code",
      "source": [
        "q3 = np.quantile(x, .75)\n",
        "q1 = np.quantile(x, .25)\n",
        "md = 147\n",
        "bk = (q3-md)-(md - q1)/(q3 - md) + (md - q1)\n",
        "print(bk)"
      ],
      "metadata": {
        "colab": {
          "base_uri": "https://localhost:8080/"
        },
        "id": "Nu3KZAXE7lP5",
        "outputId": "6c34f362-2b20-4256-e44b-61d2117c0ac0"
      },
      "execution_count": null,
      "outputs": [
        {
          "output_type": "stream",
          "name": "stdout",
          "text": [
            "14.0\n"
          ]
        }
      ]
    },
    {
      "cell_type": "markdown",
      "source": [
        "Example 2\n",
        "\n",
        "The weights of 100 students are given below:\n",
        "\n",
        "Weight above or equal: \t36,\t41,\t46,\t51,\t56,\t61,\t66,\t71\n",
        "\n",
        "No of students:\t100,\t96,\t79,\t56,\t28,\t11,\t5,\t2\n",
        "\n",
        " Find the mean and Variance of the data.\n",
        "\n",
        " Also draw the followings:\n",
        "\n",
        "1) Histogram   \n",
        "2) Frequency polygon\n",
        "\n",
        "\n",
        "---\n",
        "\n",
        "\n"
      ],
      "metadata": {
        "id": "uuvXlexo82vo"
      }
    },
    {
      "cell_type": "code",
      "source": [
        "f = np.array([4,17,23,28,17,6,3,2])\n",
        "x = np.array([38.5, 43.5, 48.5, 53.5, 58.5, 63.5, 68.5, 73.5])\n",
        "fx = x*f\n",
        "mean = sum(fx)/sum(f)\n",
        "print(mean)"
      ],
      "metadata": {
        "colab": {
          "base_uri": "https://localhost:8080/"
        },
        "id": "aLSEPRoH8hQo",
        "outputId": "d32f86be-1669-461f-9bd3-24a4dbcd40e0"
      },
      "execution_count": null,
      "outputs": [
        {
          "output_type": "stream",
          "name": "stdout",
          "text": [
            "52.35\n"
          ]
        }
      ]
    },
    {
      "cell_type": "code",
      "source": [
        "x2 = x**2\n",
        "fx2 = x2*f\n",
        "var = (sum(fx2)/sum(f))- mean**2\n",
        "print(var)\n"
      ],
      "metadata": {
        "colab": {
          "base_uri": "https://localhost:8080/"
        },
        "id": "GD7DVNAJ93Eq",
        "outputId": "f4fad6a4-51e7-4db1-92fb-2ce1fc240045"
      },
      "execution_count": null,
      "outputs": [
        {
          "output_type": "stream",
          "name": "stdout",
          "text": [
            "55.42749999999978\n"
          ]
        }
      ]
    },
    {
      "cell_type": "code",
      "source": [
        "plt.hist(f, bins = 10)\n",
        "plt.show()"
      ],
      "metadata": {
        "colab": {
          "base_uri": "https://localhost:8080/",
          "height": 430
        },
        "id": "NG4nIXCL9_W6",
        "outputId": "85e2d6ba-60d1-4bd5-c005-03d1aa3c384a"
      },
      "execution_count": null,
      "outputs": [
        {
          "output_type": "display_data",
          "data": {
            "text/plain": [
              "<Figure size 640x480 with 1 Axes>"
            ],
            "image/png": "[encoded data removed]"
          },
          "metadata": {}
        }
      ]
    },
    {
      "cell_type": "markdown",
      "source": [
        "Example: 3  \n",
        "Find mean and mode of the following data\n",
        "\n",
        "marks :\n",
        "\n",
        "0-10\n",
        " 10-20\n",
        " 20-30\n",
        " 30-40\n",
        "40-50\n",
        "50-60\n",
        " 60-70\n",
        " 70-80\n",
        "\n",
        "no of students :\n",
        " \t4,\n",
        " \t6,\n",
        " \t10,\n",
        " \t10,\n",
        " \t25,\n",
        "\t22,\n",
        " \t18,\n",
        " \t5\n",
        "\n",
        "---\n",
        "\n",
        "\n"
      ],
      "metadata": {
        "id": "cWXmyZzL_tm2"
      }
    },
    {
      "cell_type": "code",
      "source": [
        "x= np.array([5,15,25,35,45,55,65,75])\n",
        "f = np.array([4,6,10,10,25,22,18,5])\n",
        "xf = x*f\n",
        "mean = sum(xf)/sum(f)\n",
        "print(mean)"
      ],
      "metadata": {
        "colab": {
          "base_uri": "https://localhost:8080/"
        },
        "id": "sUupLc-x-fDN",
        "outputId": "a930f9e8-3260-4370-ece4-8815c2599482"
      },
      "execution_count": null,
      "outputs": [
        {
          "output_type": "stream",
          "name": "stdout",
          "text": [
            "45.9\n"
          ]
        }
      ]
    },
    {
      "cell_type": "code",
      "source": [
        "l = len(f)\n",
        "f1 = [4,6,10,10,25,22,18,5]\n",
        "mode = x[f1.index(max(f1))]\n",
        "print( mode)"
      ],
      "metadata": {
        "colab": {
          "base_uri": "https://localhost:8080/"
        },
        "id": "7kdlW6PdAeVV",
        "outputId": "0e9491ee-c0e1-4f1a-91c1-7c7d1f2ae112"
      },
      "execution_count": null,
      "outputs": [
        {
          "output_type": "stream",
          "name": "stdout",
          "text": [
            "45\n"
          ]
        }
      ]
    },
    {
      "cell_type": "code",
      "source": [],
      "metadata": {
        "id": "gQvbf3FOAmEN"
      },
      "execution_count": null,
      "outputs": []
    }
  ]
}