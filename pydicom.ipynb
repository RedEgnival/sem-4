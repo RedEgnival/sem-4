{
  "nbformat": 4,
  "nbformat_minor": 0,
  "metadata": {
    "colab": {
      "provenance": []
    },
    "kernelspec": {
      "name": "python3",
      "display_name": "Python 3"
    },
    "language_info": {
      "name": "python"
    }
  },
  "cells": [
    {
      "cell_type": "code",
      "execution_count": null,
      "metadata": {
        "colab": {
          "base_uri": "https://localhost:8080/"
        },
        "id": "mqPW_QGsreUP",
        "outputId": "358fca6e-a1f8-4c64-9fe7-82e14095ebc5"
      },
      "outputs": [
        {
          "output_type": "stream",
          "name": "stdout",
          "text": [
            "Collecting pydicom\n",
            "  Downloading pydicom-3.0.1-py3-none-any.whl.metadata (9.4 kB)\n",
            "Downloading pydicom-3.0.1-py3-none-any.whl (2.4 MB)\n",
            "\u001b[2K   \u001b[90m━━━━━━━━━━━━━━━━━━━━━━━━━━━━━━━━━━━━━━━━\u001b[0m \u001b[32m2.4/2.4 MB\u001b[0m \u001b[31m21.5 MB/s\u001b[0m eta \u001b[36m0:00:00\u001b[0m\n",
            "\u001b[?25hInstalling collected packages: pydicom\n",
            "Successfully installed pydicom-3.0.1\n"
          ]
        }
      ],
      "source": [
        "import numpy as np\n",
        "!pip install pydicom\n",
        "import pydicom\n",
        "from PIL import Image"
      ]
    },
    {
      "cell_type": "code",
      "source": [
        "im=pydicom.dcmread(\"/content/CT.1.2.246.352.221.4624806556158576070.12463444751892397750.dcm\")\n",
        "im=im.pixel_array.astype(float)\n",
        "re_im=(np.maximum(im,0)/im.max())*255\n",
        "fim=np.uint8(re_im)"
      ],
      "metadata": {
        "id": "amm7Ag73rxV9"
      },
      "execution_count": null,
      "outputs": []
    },
    {
      "cell_type": "code",
      "source": [
        "fim.save(\"o.png\")"
      ],
      "metadata": {
        "id": "mEzIgTu8tbCN"
      },
      "execution_count": null,
      "outputs": []
    },
    {
      "cell_type": "code",
      "source": [
        "import os"
      ],
      "metadata": {
        "id": "8012kD-xtjmV"
      },
      "execution_count": null,
      "outputs": []
    },
    {
      "cell_type": "code",
      "source": [],
      "metadata": {
        "id": "nS0a1E9rucv4"
      },
      "execution_count": null,
      "outputs": []
    }
  ]
}