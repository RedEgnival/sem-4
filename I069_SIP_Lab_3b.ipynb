{
  "nbformat": 4,
  "nbformat_minor": 0,
  "metadata": {
    "colab": {
      "provenance": [],
      "authorship_tag": "ABX9TyPynfmCN9EoJ5iFVkuVATRw",
      "include_colab_link": true
    },
    "kernelspec": {
      "name": "python3",
      "display_name": "Python 3"
    },
    "language_info": {
      "name": "python"
    }
  },
  "cells": [
    {
      "cell_type": "markdown",
      "metadata": {
        "id": "view-in-github",
        "colab_type": "text"
      },
      "source": [
        "<a href=\"https://colab.research.google.com/github/RedEgnival/sem-4/blob/main/I069_SIP_Lab_3b.ipynb\" target=\"_parent\"><img src=\"https://colab.research.google.com/assets/colab-badge.svg\" alt=\"Open In Colab\"/></a>"
      ]
    },
    {
      "cell_type": "markdown",
      "source": [
        "# Rusheel Sharma\n",
        "\n",
        "# I069\n",
        "\n",
        "# SIP lab 3b\n",
        "\n"
      ],
      "metadata": {
        "id": "IVmJDwP6KQjO"
      }
    },
    {
      "cell_type": "code",
      "source": [
        "import numpy as np\n",
        "import matplotlib.pyplot as plt\n",
        "import cv2"
      ],
      "metadata": {
        "id": "muJos-fjKE2P"
      },
      "execution_count": null,
      "outputs": []
    },
    {
      "cell_type": "markdown",
      "source": [
        "Low Pass Filter\n"
      ],
      "metadata": {
        "id": "hQI7MDk6PKUZ"
      }
    },
    {
      "cell_type": "code",
      "execution_count": null,
      "metadata": {
        "colab": {
          "base_uri": "https://localhost:8080/"
        },
        "id": "61PkW-sqJard",
        "outputId": "9a1685e4-2ca7-41d1-ab2b-3d13796807db"
      },
      "outputs": [
        {
          "output_type": "stream",
          "name": "stdout",
          "text": [
            "[[6 6 9 4 7 3]\n",
            " [9 2 3 0 0 2]\n",
            " [1 4 6 5 0 0]\n",
            " [7 7 6 7 5 6]\n",
            " [2 0 3 7 7 5]]\n",
            "\n",
            "[[6 6 9 4 7 3]\n",
            " [9 6 4 4 3 2]\n",
            " [1 4 3 2 1 0]\n",
            " [7 5 6 5 4 6]\n",
            " [2 0 3 7 7 5]]\n"
          ]
        }
      ],
      "source": [
        "matrix = np.array(np.random.randint(10, size=(5, 6)))\n",
        "m,n = matrix.shape\n",
        "\n",
        "matrix2= []\n",
        "print(matrix)\n",
        "for i in range (1,m-1):\n",
        "  for j in range(1,n-1):\n",
        "    avg = (matrix[i-1][j-1] + matrix[i-1][j] + matrix[i][j] + matrix[i-1][j+1] + matrix[i][j-1] + matrix[i][j+1] )\n",
        "    x = np.round(avg/6)\n",
        "    matrix2.append(x)\n",
        "print()\n",
        "matrix2 = np.reshape(matrix2,(3,4))\n",
        "for i in range (1,m-1):\n",
        "  for j in range( 1,n-1):\n",
        "    matrix[i][j] = matrix2[i-1][j-1]\n",
        "print(matrix)"
      ]
    },
    {
      "cell_type": "markdown",
      "source": [
        "Spatial Domain low pass filtering for variable size mask"
      ],
      "metadata": {
        "id": "sR0CVudUNTAY"
      }
    },
    {
      "cell_type": "code",
      "source": [
        "plt.figure(figsize=(8,7))\n",
        "img = cv2.imread(\"/content/messi.jpg\")\n",
        "for i in range(1,5):\n",
        "  b = int(input(\"Enter the value of mark : \"))\n",
        "  (m,n) = img.shape\n",
        "  img_gen = np.zeroes([m,n], dtype = int)\n",
        "  a = b//2\n",
        "  for j in range(a, m-a):\n",
        "    for k in range(a, n-a):\n",
        "      temp = img[j-a:j+a+1,k-1,k+a+1]\n",
        "      con=np.sum(temp)\n",
        "      img_gen[j,k] = con // b**2\n",
        "\n",
        "  plt.subplot(2,3,i)\n",
        "  plt.title(b)\n",
        "  plt.imsh"
      ],
      "metadata": {
        "id": "iMKsxnPkL9F3"
      },
      "execution_count": null,
      "outputs": []
    }
  ]
}