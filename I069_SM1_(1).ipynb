{
  "cells": [
    {
      "cell_type": "markdown",
      "id": "8e88fb9a",
      "metadata": {
        "id": "8e88fb9a"
      },
      "source": [
        "# SM Lab  1"
      ]
    },
    {
      "cell_type": "markdown",
      "id": "fa1a6340",
      "metadata": {
        "id": "fa1a6340"
      },
      "source": [
        "Rusheel Sharma\n",
        "I069"
      ]
    },
    {
      "cell_type": "code",
      "execution_count": null,
      "id": "be4e5c41",
      "metadata": {
        "id": "be4e5c41"
      },
      "outputs": [],
      "source": [
        "import numpy as np\n",
        "import math\n",
        "import scipy.stats as stats\n",
        "import pandas as pd\n",
        "from collections import Counter"
      ]
    },
    {
      "cell_type": "code",
      "execution_count": null,
      "id": "d11e65f0",
      "metadata": {
        "id": "d11e65f0"
      },
      "outputs": [],
      "source": [
        "data = [6,7,10,12,13,4,8,12]"
      ]
    },
    {
      "cell_type": "code",
      "execution_count": null,
      "id": "8734dcde",
      "metadata": {
        "id": "8734dcde",
        "outputId": "092c42bc-f767-4f02-cda8-86087a4565de"
      },
      "outputs": [
        {
          "name": "stdout",
          "output_type": "stream",
          "text": [
            "Mean = 9.0\n"
          ]
        }
      ],
      "source": [
        "# Mean\n",
        "total = 0\n",
        "for i in data:\n",
        "\n",
        "    total += i\n",
        "\n",
        "mean = total/len(data)\n",
        "print(\"Mean =\", mean)"
      ]
    },
    {
      "cell_type": "code",
      "execution_count": null,
      "id": "49e0cfb3",
      "metadata": {
        "id": "49e0cfb3",
        "outputId": "d936c779-2f51-48a9-f265-4c3d802c9745"
      },
      "outputs": [
        {
          "name": "stdout",
          "output_type": "stream",
          "text": [
            "[ 4  6  7  8 10 12 12 13]\n",
            "Median = 9.0\n"
          ]
        }
      ],
      "source": [
        "# Median\n",
        "d=np.sort(data)\n",
        "print(d)\n",
        "l = len(d)\n",
        "if l%2 == 0:\n",
        "\n",
        "    median = (d[l//2-1]+d[l//2])/2\n",
        "\n",
        "else:\n",
        "\n",
        "    median = d[l/2]\n",
        "\n",
        "print(\"Median =\", median)"
      ]
    },
    {
      "cell_type": "code",
      "execution_count": null,
      "id": "b9c9f5d7",
      "metadata": {
        "id": "b9c9f5d7",
        "outputId": "5d592997-f8a9-44c3-e429-934076103958"
      },
      "outputs": [
        {
          "name": "stdout",
          "output_type": "stream",
          "text": [
            "Mode = [12]\n"
          ]
        }
      ],
      "source": [
        "# Mode\n",
        "\n",
        "freq={}\n",
        "max_count=0\n",
        "mode=[]\n",
        "for i in data:\n",
        "\n",
        "    if i in freq:\n",
        "        freq[i] += 1\n",
        "    else:\n",
        "        freq[i] = 1\n",
        "\n",
        "    if freq[i] > max_count:\n",
        "        max_count = freq[i]\n",
        "\n",
        "for i, count in freq.items():\n",
        "    if count == max_count:\n",
        "        mode.append(i)\n",
        "print(\"Mode =\",mode)\n",
        "\n",
        ""
      ]
    },
    {
      "cell_type": "code",
      "execution_count": null,
      "id": "1ffe7211",
      "metadata": {
        "id": "1ffe7211",
        "outputId": "fc1e6346-18c8-4084-ec08-82e4b743dd3f"
      },
      "outputs": [
        {
          "name": "stdout",
          "output_type": "stream",
          "text": [
            "Standard Deviation = 3.0413812651491097\n"
          ]
        }
      ],
      "source": [
        "# Standard Deviation\n",
        "\n",
        "x=0\n",
        "for i in data:\n",
        "\n",
        "    x += (i-mean)**2\n",
        "\n",
        "sd=math.sqrt(x/len(data))\n",
        "print(\"Standard Deviation =\", sd)"
      ]
    },
    {
      "cell_type": "code",
      "execution_count": null,
      "id": "71e762ef",
      "metadata": {
        "id": "71e762ef",
        "outputId": "9fc46e69-e706-4a6f-aa05-144d58cf23d4"
      },
      "outputs": [
        {
          "name": "stdout",
          "output_type": "stream",
          "text": [
            "Variance = 9.249999999999998\n"
          ]
        }
      ],
      "source": [
        "# Variance\n",
        "\n",
        "v=(sd)**2\n",
        "print(\"Variance =\", v)"
      ]
    },
    {
      "cell_type": "code",
      "execution_count": null,
      "id": "497c3082",
      "metadata": {
        "id": "497c3082",
        "outputId": "5124c47e-0e1f-4fff-ee93-489a99038e39"
      },
      "outputs": [
        {
          "name": "stdout",
          "output_type": "stream",
          "text": [
            "Mean Deviation = 2.75\n"
          ]
        }
      ],
      "source": [
        "# Mean Deviation\n",
        "\n",
        "y=0\n",
        "\n",
        "for i in data:\n",
        "\n",
        "    y += abs(i-mean)\n",
        "\n",
        "md=(y/len(data))\n",
        "print(\"Mean Deviation =\", md)"
      ]
    },
    {
      "cell_type": "code",
      "execution_count": null,
      "id": "edd413bb",
      "metadata": {
        "id": "edd413bb",
        "outputId": "42ff2869-d0c4-4e48-cddc-1042ed7b778e"
      },
      "outputs": [
        {
          "name": "stdout",
          "output_type": "stream",
          "text": [
            "Mean =  9.0\n",
            "Median =  9.0\n",
            "Mode =  ModeResult(mode=array([12]), count=array([2]))\n",
            "Standard Deviation =  3.0413812651491097\n",
            "Variance =  9.25\n",
            "Mean Deviation =  0    2.75\n",
            "dtype: float64\n"
          ]
        },
        {
          "name": "stderr",
          "output_type": "stream",
          "text": [
            "C:\\Users\\mpstme.student\\AppData\\Local\\Temp\\ipykernel_6288\\1571263012.py:3: FutureWarning: Unlike other reduction functions (e.g. `skew`, `kurtosis`), the default behavior of `mode` typically preserves the axis it acts along. In SciPy 1.11.0, this behavior will change: the default value of `keepdims` will become False, the `axis` over which the statistic is taken will be eliminated, and the value None will no longer be accepted. Set `keepdims` to True or False to avoid this warning.\n",
            "  print(\"Mode = \", stats.mode(data))\n"
          ]
        }
      ],
      "source": [
        "print(\"Mean = \", np.mean(data))\n",
        "print(\"Median = \",np.median(data))\n",
        "print(\"Mode = \", stats.mode(data))\n",
        "print(\"Standard Deviation = \", np.std(data))\n",
        "print(\"Variance = \", np.var(data))\n",
        "df=pd.DataFrame(data)\n",
        "print(\"Mean Deviation = \", df.mad())\n"
      ]
    },
    {
      "cell_type": "code",
      "execution_count": null,
      "id": "590b0f44",
      "metadata": {
        "id": "590b0f44",
        "outputId": "5b5f7163-928d-4fa9-a634-329273b9ab17"
      },
      "outputs": [
        {
          "name": "stdout",
          "output_type": "stream",
          "text": [
            "[3, 6, 9, 12, 15, 18, 21, 24, 27, 30]\n"
          ]
        }
      ],
      "source": [
        "data1=[]\n",
        "for i in range (3,31,3):\n",
        "    data1.append(i)\n",
        "\n",
        "print(data1)"
      ]
    },
    {
      "cell_type": "code",
      "execution_count": null,
      "id": "e68118e0",
      "metadata": {
        "id": "e68118e0",
        "outputId": "1e3dbe52-ba2f-4619-f569-a425543a4531"
      },
      "outputs": [
        {
          "name": "stdout",
          "output_type": "stream",
          "text": [
            "Mean = 16.5\n",
            "Mean =  16.5\n"
          ]
        }
      ],
      "source": [
        "# Mean\n",
        "total = 0\n",
        "for i in data1:\n",
        "\n",
        "    total += i\n",
        "\n",
        "mean1 = total/len(data1)\n",
        "print(\"Mean =\", mean1)\n",
        "print(\"Mean = \", np.mean(data1))"
      ]
    },
    {
      "cell_type": "code",
      "execution_count": null,
      "id": "d2bbb06e",
      "metadata": {
        "id": "d2bbb06e",
        "outputId": "1a816e5d-7a14-4b32-d16a-1f7fe4713c13"
      },
      "outputs": [
        {
          "name": "stdout",
          "output_type": "stream",
          "text": [
            "Standard Deviation = 8.616843969807043\n",
            "Variance = 74.25\n",
            "Variance =  74.25\n"
          ]
        }
      ],
      "source": [
        "x=0\n",
        "for i in data1:\n",
        "\n",
        "    x += (i-mean)**2\n",
        "\n",
        "sd1=math.sqrt(x/len(data1))\n",
        "print(\"Standard Deviation =\", sd1)\n",
        "\n",
        "# Variance\n",
        "\n",
        "v1=(sd1)**2\n",
        "print(\"Variance =\", v1)\n",
        "print(\"Variance = \", np.var(data1))"
      ]
    },
    {
      "cell_type": "code",
      "execution_count": null,
      "id": "014fe5e5",
      "metadata": {
        "id": "014fe5e5",
        "outputId": "7c7bba61-a32e-42ed-93a6-fd82259487fc"
      },
      "outputs": [
        {
          "name": "stdout",
          "output_type": "stream",
          "text": [
            "Mean = 10.0\n",
            "Mean =  10.0\n",
            "Mean Deviation = 3.0\n",
            "Mean Deviation =  0    3.0\n",
            "dtype: float64\n"
          ]
        }
      ],
      "source": [
        "data2=[4,7,8,9,10,12,13,17]\n",
        "\n",
        "# Mean\n",
        "total = 0\n",
        "for i in data2:\n",
        "\n",
        "    total += i\n",
        "\n",
        "mean2 = total/len(data2)\n",
        "print(\"Mean =\", mean2)\n",
        "print(\"Mean = \", np.mean(data2))\n",
        "\n",
        "# Mean Deviation\n",
        "\n",
        "y=0\n",
        "\n",
        "for i in data2:\n",
        "\n",
        "    y += abs(i-mean2)\n",
        "\n",
        "md2=(y/len(data2))\n",
        "print(\"Mean Deviation =\", md2)\n",
        "df=pd.DataFrame(data2)\n",
        "print(\"Mean Deviation = \", df.mad())"
      ]
    },
    {
      "cell_type": "code",
      "execution_count": null,
      "id": "8d2932d6",
      "metadata": {
        "id": "8d2932d6",
        "outputId": "776242ff-6767-4b82-cd82-a6e896556fad"
      },
      "outputs": [
        {
          "name": "stdout",
          "output_type": "stream",
          "text": [
            "Mean = 50.0\n",
            "Mean =  50.0\n",
            "Mean Deviation = 8.4\n",
            "Mean Deviation =  0    8.4\n",
            "dtype: float64\n"
          ]
        }
      ],
      "source": [
        "data3=[38,70,48,40,42,55,63,46,54,44]\n",
        "\n",
        "# Mean\n",
        "total = 0\n",
        "for i in data3:\n",
        "\n",
        "    total += i\n",
        "\n",
        "mean3 = total/len(data3)\n",
        "print(\"Mean =\", mean3)\n",
        "print(\"Mean = \", np.mean(data3))\n",
        "\n",
        "# Mean Deviation\n",
        "\n",
        "y=0\n",
        "\n",
        "for i in data3:\n",
        "\n",
        "    y += abs(i-mean3)\n",
        "\n",
        "md3=(y/len(data3))\n",
        "print(\"Mean Deviation =\", md3)\n",
        "df=pd.DataFrame(data3)\n",
        "print(\"Mean Deviation = \", df.mad())"
      ]
    },
    {
      "cell_type": "code",
      "execution_count": null,
      "id": "22ef738b",
      "metadata": {
        "id": "22ef738b",
        "outputId": "0cb07a63-1d42-4325-842e-0721f4d6137f"
      },
      "outputs": [
        {
          "name": "stdout",
          "output_type": "stream",
          "text": [
            "Enter n10\n",
            "10\n",
            "Mean = 4.5\n",
            "Mean =  4.5\n",
            "Standard Deviation = 2.8722813232690143\n",
            "Variance = 8.25\n",
            "Variance =  8.25\n"
          ]
        }
      ],
      "source": [
        "data4=[]\n",
        "n=int(input(\"Enter n\"))\n",
        "print(n)\n",
        "for i in range(n):\n",
        "    data4.append(i)\n",
        "\n",
        "# Mean\n",
        "total = 0\n",
        "for i in data4:\n",
        "\n",
        "    total += i\n",
        "\n",
        "mean4 = total/len(data4)\n",
        "print(\"Mean =\", mean4)\n",
        "print(\"Mean = \", np.mean(data4))\n",
        "\n",
        "x=0\n",
        "for i in data4:\n",
        "\n",
        "    x += (i-mean4)**2\n",
        "\n",
        "sd4=math.sqrt(x/len(data4))\n",
        "print(\"Standard Deviation =\", sd4)\n",
        "\n",
        "# Variance\n",
        "\n",
        "v4=(sd4)**2\n",
        "print(\"Variance =\", v4)\n",
        "print(\"Variance = \", np.var(data4))"
      ]
    },
    {
      "cell_type": "code",
      "execution_count": null,
      "id": "54c50f4f",
      "metadata": {
        "id": "54c50f4f"
      },
      "outputs": [],
      "source": []
    }
  ],
  "metadata": {
    "kernelspec": {
      "display_name": "Python 3 (ipykernel)",
      "language": "python",
      "name": "python3"
    },
    "language_info": {
      "codemirror_mode": {
        "name": "ipython",
        "version": 3
      },
      "file_extension": ".py",
      "mimetype": "text/x-python",
      "name": "python",
      "nbconvert_exporter": "python",
      "pygments_lexer": "ipython3",
      "version": "3.9.13"
    },
    "colab": {
      "provenance": []
    }
  },
  "nbformat": 4,
  "nbformat_minor": 5
}