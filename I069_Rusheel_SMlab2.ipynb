{
  "cells": [
    {
      "cell_type": "markdown",
      "source": [
        "# Rusheel Sharma\n",
        "# I069\n",
        "# SM Lab 2"
      ],
      "metadata": {
        "id": "8rjhU7W3uyQJ"
      },
      "id": "8rjhU7W3uyQJ"
    },
    {
      "cell_type": "code",
      "execution_count": null,
      "id": "564a8074",
      "metadata": {
        "id": "564a8074"
      },
      "outputs": [],
      "source": [
        "import numpy as np\n",
        "import pandas as pd\n",
        "import math"
      ]
    },
    {
      "cell_type": "markdown",
      "source": [
        "Q1. Find mean, variance and standard deviation of data :\n",
        "\n",
        "---\n",
        "\n",
        "\n",
        "x1=[10,11,12,13,14],\n",
        "f1=[3,12,18,12,3]"
      ],
      "metadata": {
        "id": "xFjB7vl3vb6e"
      },
      "id": "xFjB7vl3vb6e"
    },
    {
      "cell_type": "code",
      "execution_count": null,
      "id": "30d93443",
      "metadata": {
        "colab": {
          "base_uri": "https://localhost:8080/"
        },
        "id": "30d93443",
        "outputId": "a14b9cdc-64e8-4fa0-fc8a-7a96bdd4570d"
      },
      "outputs": [
        {
          "output_type": "stream",
          "name": "stdout",
          "text": [
            "Summation of x1 60\n",
            "Summation of f1 48\n",
            "xf1 [30, 132, 216, 156, 42]\n",
            "Summation of xf 576\n",
            "x1**2 [100, 121, 144, 169, 196]\n",
            "Summation of x1**2 730\n",
            "xf**2 [300, 1452, 2592, 2028, 588]\n",
            "Summation of fx**2 6960\n",
            "Mean 12.0\n",
            "Var 1.0\n",
            "sd 1.0\n"
          ]
        }
      ],
      "source": [
        "x1=[10,11,12,13,14]\n",
        "f1=[3,12,18,12,3]\n",
        "xf1=[]\n",
        "sx1=0\n",
        "sf1=0\n",
        "\n",
        "for i in x1:\n",
        "    sx1+=i\n",
        "\n",
        "\n",
        "for i in f1:\n",
        "    sf1+=i\n",
        "\n",
        "for i in range(len(x1)):\n",
        "    xf1.append(x1[i]*f1[i])\n",
        "\n",
        "x1s=[]\n",
        "for i in x1:\n",
        "    x1s.append((i**2))\n",
        "\n",
        "sxf=0\n",
        "for i in xf1:\n",
        "    sxf+=i\n",
        "\n",
        "sx1s=0\n",
        "for i in x1s:\n",
        "    sx1s+=i\n",
        "\n",
        "xf1s=[]\n",
        "for i in range (len(f1)):\n",
        "    xf1s.append((x1[i]**2)*f1[i])\n",
        "\n",
        "sxfs=0\n",
        "for i in xf1s:\n",
        "    sxfs+=i\n",
        "\n",
        "print(\"Summation of x1\",sx1)\n",
        "print(\"Summation of f1\",sf1)\n",
        "print(\"xf1\",xf1)\n",
        "print(\"Summation of xf\",sxf)\n",
        "print(\"x1**2\",x1s)\n",
        "print(\"Summation of x1**2\",sx1s)\n",
        "print(\"xf**2\",xf1s)\n",
        "print(\"Summation of fx**2\",sxfs)\n",
        "\n",
        "mean1=sxf/sf1\n",
        "print(\"Mean\",mean1)\n",
        "\n",
        "var1 = (sxfs/sf1)-(mean1**2)\n",
        "print(\"Var\",var1)\n",
        "\n",
        "sd1=math.sqrt(var1)\n",
        "print(\"sd\",sd1)"
      ]
    },
    {
      "cell_type": "markdown",
      "source": [
        "Q2. Find median of the data :\n",
        "\n",
        "---\n",
        "\n",
        "x2=[3,6,9,12,13,15,21,22],\n",
        "f2=[3,4,5,2,4,5,4,3]"
      ],
      "metadata": {
        "id": "qSZb8E50vwSt"
      },
      "id": "qSZb8E50vwSt"
    },
    {
      "cell_type": "code",
      "execution_count": null,
      "id": "f67beeec",
      "metadata": {
        "colab": {
          "base_uri": "https://localhost:8080/"
        },
        "id": "f67beeec",
        "outputId": "fb63fc50-9bc1-46f3-ef68-2b908400bdb1"
      },
      "outputs": [
        {
          "output_type": "stream",
          "name": "stdout",
          "text": [
            "Cf = [3, 7, 12, 14, 18, 23, 27, 30]\n",
            "15 16\n",
            "cfi= 18\n",
            "Median = 13\n",
            "cfi= 18\n",
            "Median2 = 13\n"
          ]
        }
      ],
      "source": [
        "x2=[3,6,9,12,13,15,21,22]\n",
        "f2=[3,4,5,2,4,5,4,3]\n",
        "c=[]\n",
        "s=0\n",
        "for i in f2:\n",
        "  s+=i\n",
        "  c.append(s)\n",
        "\n",
        "print(\"Cf =\",c)\n",
        "total=sum(f2)\n",
        "t1=total//2\n",
        "t2=t1+1\n",
        "print(t1,t2)\n",
        "for i in range(len(c)):\n",
        "  if c[i]>=t1 :\n",
        "\n",
        "    print(\"cfi=\",c[i])\n",
        "    print(\"Median =\",x2[i])\n",
        "    break\n",
        "for i in range(len(c)):\n",
        "  if c[i]>=t2 :\n",
        "\n",
        "    print(\"cfi=\",c[i])\n",
        "    print(\"Median2 =\",x2[i])\n",
        "    break"
      ]
    },
    {
      "cell_type": "markdown",
      "source": [
        "Q3. Find variance of the data :\n",
        "\n",
        "---\n",
        "\n",
        "f3=[14,23,27,21,15],\n",
        "x3=[5,15,25,35,45]"
      ],
      "metadata": {
        "id": "jP4fEAHkv9E1"
      },
      "id": "jP4fEAHkv9E1"
    },
    {
      "cell_type": "code",
      "source": [
        "f3=[14,23,27,21,15]\n",
        "x3=[5,15,25,35,45]\n",
        "xifi=[]\n",
        "for i in range(len(f3)):\n",
        "    xifi.append(f3[i]*x3[i])\n",
        "\n",
        "print(xifi)\n",
        "m=sum(xifi)/sum(f3)\n",
        "print(\"mean =\",m)\n",
        "xm=[]\n",
        "for i in x3:\n",
        "    xm.append(i-m)\n",
        "print(\"Xi-mean\",xm)\n",
        "xms=[]\n",
        "for i in xm:\n",
        "  xms.append(i**2)\n",
        "print(\"Xi-mean square\",xms)\n",
        "fxms=[]\n",
        "for i in range(len(f3)):\n",
        "    fxms.append(f3[i]*xms[i])\n",
        "print(\"fx(Xi-mean square)\",fxms)\n",
        "variance=sum(fxms)/sum(f3)\n",
        "print(\"variance\",variance)\n",
        "sd=math.sqrt(variance)\n",
        "print(\"sd\",sd)"
      ],
      "metadata": {
        "colab": {
          "base_uri": "https://localhost:8080/"
        },
        "id": "7ThJaSdJoQT6",
        "outputId": "f2e8e667-e696-4d18-8e07-efbbbaaffbe4"
      },
      "id": "7ThJaSdJoQT6",
      "execution_count": null,
      "outputs": [
        {
          "output_type": "stream",
          "name": "stdout",
          "text": [
            "[70, 345, 675, 735, 675]\n",
            "mean = 25.0\n",
            "Xi-mean [-20.0, -10.0, 0.0, 10.0, 20.0]\n",
            "Xi-mean square [400.0, 100.0, 0.0, 100.0, 400.0]\n",
            "fx(Xi-mean square) [5600.0, 2300.0, 0.0, 2100.0, 6000.0]\n",
            "variance 160.0\n",
            "sd 12.649110640673518\n"
          ]
        }
      ]
    },
    {
      "cell_type": "code",
      "source": [],
      "metadata": {
        "id": "Gu8RwcMYr7C8"
      },
      "id": "Gu8RwcMYr7C8",
      "execution_count": null,
      "outputs": []
    }
  ],
  "metadata": {
    "kernelspec": {
      "display_name": "Python 3 (ipykernel)",
      "language": "python",
      "name": "python3"
    },
    "language_info": {
      "codemirror_mode": {
        "name": "ipython",
        "version": 3
      },
      "file_extension": ".py",
      "mimetype": "text/x-python",
      "name": "python",
      "nbconvert_exporter": "python",
      "pygments_lexer": "ipython3",
      "version": "3.9.13"
    },
    "colab": {
      "provenance": []
    }
  },
  "nbformat": 4,
  "nbformat_minor": 5
}